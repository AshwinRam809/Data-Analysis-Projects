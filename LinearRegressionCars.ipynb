{
 "cells": [
  {
   "cell_type": "code",
   "execution_count": 39,
   "id": "339f0b89",
   "metadata": {},
   "outputs": [],
   "source": [
    "import pandas as pd\n",
    "import numpy as np\n",
    "import seaborn as sns\n",
    "from pylab import rcParams\n",
    "import matplotlib.pyplot as plt\n",
    "import scipy\n",
    "from scipy.stats import pearsonr\n",
    "from sklearn.linear_model import LinearRegression\n",
    "from sklearn.model_selection import train_test_split, cross_val_predict\n",
    "from sklearn.metrics import mean_squared_error, r2_score"
   ]
  },
  {
   "cell_type": "code",
   "execution_count": 15,
   "id": "cce1b33f",
   "metadata": {},
   "outputs": [],
   "source": [
    "data = pd.read_csv('car_prices.csv');"
   ]
  },
  {
   "cell_type": "code",
   "execution_count": 16,
   "id": "93253ace",
   "metadata": {},
   "outputs": [
    {
     "data": {
      "text/plain": [
       "year                0\n",
       "make                0\n",
       "model               0\n",
       "trim              278\n",
       "body             2387\n",
       "transmission    61713\n",
       "vin                 0\n",
       "state               0\n",
       "condition           0\n",
       "odometer            0\n",
       "color             633\n",
       "interior          633\n",
       "seller              0\n",
       "mmr                 0\n",
       "sellingprice        0\n",
       "saledate            0\n",
       "dtype: int64"
      ]
     },
     "execution_count": 16,
     "metadata": {},
     "output_type": "execute_result"
    }
   ],
   "source": [
    "#Adjusting all the vehicles conditions rated on a scale from 1-5 to fit a scale of 10-50 so all the vehicles are rated on the same scale. \n",
    "data = data.replace(to_replace={'condition' : {1: 10, 2: 20, 3: 30, 4: 40, 5: 50}});\n",
    "data = data.dropna(subset=[\"condition\",\"model\",\"odometer\",\"saledate\"]);\n",
    "data.isnull().sum()"
   ]
  },
  {
   "cell_type": "code",
   "execution_count": 17,
   "id": "147338a8",
   "metadata": {},
   "outputs": [],
   "source": [
    "data = data.drop(columns=[\"trim\",\"body\",\"transmission\",\"vin\",\"state\",\"color\",\"interior\",\"seller\",\"mmr\",\"saledate\"])"
   ]
  },
  {
   "cell_type": "code",
   "execution_count": 18,
   "id": "76d9ea89",
   "metadata": {},
   "outputs": [
    {
     "data": {
      "text/html": [
       "<div>\n",
       "<style scoped>\n",
       "    .dataframe tbody tr th:only-of-type {\n",
       "        vertical-align: middle;\n",
       "    }\n",
       "\n",
       "    .dataframe tbody tr th {\n",
       "        vertical-align: top;\n",
       "    }\n",
       "\n",
       "    .dataframe thead th {\n",
       "        text-align: right;\n",
       "    }\n",
       "</style>\n",
       "<table border=\"1\" class=\"dataframe\">\n",
       "  <thead>\n",
       "    <tr style=\"text-align: right;\">\n",
       "      <th></th>\n",
       "      <th>year</th>\n",
       "      <th>condition</th>\n",
       "      <th>odometer</th>\n",
       "      <th>sellingprice</th>\n",
       "    </tr>\n",
       "  </thead>\n",
       "  <tbody>\n",
       "    <tr>\n",
       "      <th>count</th>\n",
       "      <td>536667.000000</td>\n",
       "      <td>536667.000000</td>\n",
       "      <td>536667.000000</td>\n",
       "      <td>536667.000000</td>\n",
       "    </tr>\n",
       "    <tr>\n",
       "      <th>mean</th>\n",
       "      <td>2010.211755</td>\n",
       "      <td>34.337979</td>\n",
       "      <td>66453.584334</td>\n",
       "      <td>13845.216736</td>\n",
       "    </tr>\n",
       "    <tr>\n",
       "      <th>std</th>\n",
       "      <td>3.844865</td>\n",
       "      <td>9.464435</td>\n",
       "      <td>52270.756009</td>\n",
       "      <td>9697.947231</td>\n",
       "    </tr>\n",
       "    <tr>\n",
       "      <th>min</th>\n",
       "      <td>1984.000000</td>\n",
       "      <td>10.000000</td>\n",
       "      <td>1.000000</td>\n",
       "      <td>1.000000</td>\n",
       "    </tr>\n",
       "    <tr>\n",
       "      <th>25%</th>\n",
       "      <td>2008.000000</td>\n",
       "      <td>27.000000</td>\n",
       "      <td>27798.000000</td>\n",
       "      <td>7300.000000</td>\n",
       "    </tr>\n",
       "    <tr>\n",
       "      <th>50%</th>\n",
       "      <td>2012.000000</td>\n",
       "      <td>36.000000</td>\n",
       "      <td>50347.000000</td>\n",
       "      <td>12400.000000</td>\n",
       "    </tr>\n",
       "    <tr>\n",
       "      <th>75%</th>\n",
       "      <td>2013.000000</td>\n",
       "      <td>42.000000</td>\n",
       "      <td>96124.000000</td>\n",
       "      <td>18400.000000</td>\n",
       "    </tr>\n",
       "    <tr>\n",
       "      <th>max</th>\n",
       "      <td>2015.000000</td>\n",
       "      <td>50.000000</td>\n",
       "      <td>999999.000000</td>\n",
       "      <td>230000.000000</td>\n",
       "    </tr>\n",
       "  </tbody>\n",
       "</table>\n",
       "</div>"
      ],
      "text/plain": [
       "                year      condition       odometer   sellingprice\n",
       "count  536667.000000  536667.000000  536667.000000  536667.000000\n",
       "mean     2010.211755      34.337979   66453.584334   13845.216736\n",
       "std         3.844865       9.464435   52270.756009    9697.947231\n",
       "min      1984.000000      10.000000       1.000000       1.000000\n",
       "25%      2008.000000      27.000000   27798.000000    7300.000000\n",
       "50%      2012.000000      36.000000   50347.000000   12400.000000\n",
       "75%      2013.000000      42.000000   96124.000000   18400.000000\n",
       "max      2015.000000      50.000000  999999.000000  230000.000000"
      ]
     },
     "execution_count": 18,
     "metadata": {},
     "output_type": "execute_result"
    }
   ],
   "source": [
    "data.describe()"
   ]
  },
  {
   "cell_type": "code",
   "execution_count": 19,
   "id": "79e91d6a",
   "metadata": {},
   "outputs": [],
   "source": [
    "#Removing outliers in the sellingprice and odometer columns, removing any variables 1.5 standard deviations away from the mean\n",
    "Sellstd = data[\"sellingprice\"].std()\n",
    "SellAvg = data[\"sellingprice\"].mean()\n",
    "OStd = data[\"odometer\"].std()\n",
    "OAvg = data[\"odometer\"].mean()\n",
    "data = data[((data.sellingprice > SellAvg - 1.5*Sellstd) & (data.sellingprice < SellAvg + 1.5*Sellstd) & (data.odometer > OAvg - 1.5*OStd) & (data.odometer < OAvg + 1.5*OStd))] "
   ]
  },
  {
   "cell_type": "code",
   "execution_count": 20,
   "id": "b2919d3c",
   "metadata": {},
   "outputs": [],
   "source": [
    "#Combining a column that combines the make,model and year columns\n",
    "data[\"Make&Model\"] = data[\"make\"] + \" \" + data[\"model\"] + \" \" + data[\"year\"].astype(str)"
   ]
  },
  {
   "cell_type": "code",
   "execution_count": 21,
   "id": "81f3a60c",
   "metadata": {},
   "outputs": [],
   "source": [
    "#Dropping any cars with a make,model count of less than 50\n",
    "x = data[\"Make&Model\"].value_counts()\n",
    "for index,value in x.items():\n",
    "    if value < 50:\n",
    "        data = data.drop(data[data['Make&Model'] == index].index)\n",
    "    else:\n",
    "        pass"
   ]
  },
  {
   "cell_type": "code",
   "execution_count": 22,
   "id": "9725f483",
   "metadata": {},
   "outputs": [],
   "source": [
    "#Getting the average sellingprice of each car grouped by make,model and year.\n",
    "cars = data.groupby(data[\"Make&Model\"])\n",
    "t = cars.mean(numeric_only=True)"
   ]
  },
  {
   "cell_type": "code",
   "execution_count": 23,
   "id": "bc452980",
   "metadata": {},
   "outputs": [],
   "source": [
    "#Creating a new column variable MakePrice, that rates a make,model,year based on its average selling price on a scale of 0-4\n",
    "temp = 4\n",
    "for i,j in t.iterrows():\n",
    "    if j.sellingprice <= 5000:\n",
    "        temp = 0\n",
    "    elif j.sellingprice <= 10000:\n",
    "        temp = 1\n",
    "    elif j.sellingprice <= 15000:\n",
    "        temp = 2\n",
    "    elif j.sellingprice <= 20000:\n",
    "        temp = 3\n",
    "    else:\n",
    "        temp = 4\n",
    "    data.loc[data[\"Make&Model\"] == i, \"MakePrice\"] = temp"
   ]
  },
  {
   "cell_type": "code",
   "execution_count": 36,
   "id": "2515be42",
   "metadata": {},
   "outputs": [
    {
     "data": {
      "image/png": "[encoded data removed]",
      "text/plain": [
       "<Figure size 640x480 with 1 Axes>"
      ]
     },
     "metadata": {},
     "output_type": "display_data"
    }
   ],
   "source": [
    "fig, ax = plt.subplots()\n",
    "ax.set_ylabel('Number Of Cars')\n",
    "ax.set_xlabel('MakePrice')\n",
    "x = plt.hist(data[\"MakePrice\"], bins=np.arange(0,6,1))"
   ]
  },
  {
   "cell_type": "code",
   "execution_count": 25,
   "id": "7186fbbb",
   "metadata": {},
   "outputs": [
    {
     "data": {
      "text/plain": [
       "<Axes: >"
      ]
     },
     "execution_count": 25,
     "metadata": {},
     "output_type": "execute_result"
    },
    {
     "data": {
      "image/png": "[encoded data removed]",
      "text/plain": [
       "<Figure size 640x480 with 2 Axes>"
      ]
     },
     "metadata": {},
     "output_type": "display_data"
    }
   ],
   "source": [
    "corr = data[[\"odometer\",\"condition\",\"sellingprice\",\"MakePrice\"]].corr()\n",
    "sns.heatmap(corr)"
   ]
  },
  {
   "cell_type": "code",
   "execution_count": 26,
   "id": "6e8d7232",
   "metadata": {},
   "outputs": [],
   "source": [
    "X = data[[\"odometer\",\"MakePrice\",\"condition\"]]\n",
    "y = data[[\"sellingprice\"]]\n",
    "X_train, X_test , y_train , y_test = train_test_split(X,y, test_size = 0.20 )"
   ]
  },
  {
   "cell_type": "code",
   "execution_count": 42,
   "id": "d96daaf6",
   "metadata": {},
   "outputs": [
    {
     "name": "stdout",
     "output_type": "stream",
     "text": [
      "0.823052180797208\n"
     ]
    },
    {
     "name": "stderr",
     "output_type": "stream",
     "text": [
      "C:\\Users\\ashwi\\AppData\\Local\\Packages\\PythonSoftwareFoundation.Python.3.13_qbz5n2kfra8p0\\LocalCache\\local-packages\\Python313\\site-packages\\sklearn\\utils\\validation.py:2749: UserWarning: X does not have valid feature names, but LinearRegression was fitted with feature names\n",
      "  warnings.warn(\n"
     ]
    }
   ],
   "source": [
    "LinReg = LinearRegression()\n",
    "LinReg.fit(X_train,y_train)\n",
    "print(LinReg.score(X_test,y_test))\n",
    "y_pred = LinReg.predict(X_test.values)"
   ]
  }
 ],
 "metadata": {
  "kernelspec": {
   "display_name": "Python 3",
   "language": "python",
   "name": "python3"
  },
  "language_info": {
   "codemirror_mode": {
    "name": "ipython",
    "version": 3
   },
   "file_extension": ".py",
   "mimetype": "text/x-python",
   "name": "python",
   "nbconvert_exporter": "python",
   "pygments_lexer": "ipython3",
   "version": "3.13.6"
  }
 },
 "nbformat": 4,
 "nbformat_minor": 5
}
