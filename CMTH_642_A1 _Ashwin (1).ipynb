{
  "cells": [
    {
      "cell_type": "markdown",
      "metadata": {
        "collapsed": false,
        "id": "TX_-QfCapg5r"
      },
      "source": [
        "## CMTH642 - Data Analytics: Advanced Methods  \n",
        "### Assignment 1\n"
      ]
    },
    {
      "cell_type": "markdown",
      "metadata": {
        "collapsed": false,
        "id": "U8IqCJzxpg5t"
      },
      "source": [
        "*****\n",
        "Assignment 1 is worth 15% of the final grade. Submit the ipynb file and the generated pdf output file. Failing to submit both files will be subject to a mark deduction.\n",
        "*****\n",
        "\n"
      ]
    },
    {
      "cell_type": "markdown",
      "metadata": {
        "id": "OE4FoDBm-ULU"
      },
      "source": [
        "### Preparation\n",
        "\n",
        "The dataset is related to Forest Fires. For more info: https://archive.ics.uci.edu/ml/datasets/forest+fires"
      ]
    },
    {
      "cell_type": "code",
      "execution_count": 1,
      "metadata": {
        "id": "I6UpceuN_dle"
      },
      "outputs": [],
      "source": [
        "import pandas as pd\n",
        "import matplotlib.pyplot as plt\n",
        "import numpy as np"
      ]
    },
    {
      "cell_type": "markdown",
      "metadata": {
        "id": "XaX5w73fK8HZ"
      },
      "source": [
        "# Q1.\n",
        "\n",
        "Read the csv file from the this URL https://archive.ics.uci.edu/ml/machine-learning-databases/forest-fires/forestfires.csv. Save it to a data frame called Forest. Check the first five records. (10 points)\n",
        "[Relevant Pandas API](https://pandas.pydata.org/docs/reference/api/pandas.read_csv.html)\n"
      ]
    },
    {
      "cell_type": "code",
      "execution_count": 12,
      "metadata": {
        "id": "LeBUg3jMLAsG"
      },
      "outputs": [
        {
          "name": "stdout",
          "output_type": "stream",
          "text": [
            "The first five records are\n",
            "   X  Y month  day  FFMC   DMC     DC  ISI  temp  RH  wind  rain  area\n",
            "0  7  5   mar  fri  86.2  26.2   94.3  5.1   8.2  51   6.7   0.0   0.0\n",
            "1  7  4   oct  tue  90.6  35.4  669.1  6.7  18.0  33   0.9   0.0   0.0\n",
            "2  7  4   oct  sat  90.6  43.7  686.9  6.7  14.6  33   1.3   0.0   0.0\n",
            "3  8  6   mar  fri  91.7  33.3   77.5  9.0   8.3  97   4.0   0.2   0.0\n",
            "4  8  6   mar  sun  89.3  51.3  102.2  9.6  11.4  99   1.8   0.0   0.0\n"
          ]
        }
      ],
      "source": [
        "Forest = pd.read_csv(\"https://archive.ics.uci.edu/ml/machine-learning-databases/forest-fires/forestfires.csv\")\n",
        "print(\"The first five records are\")\n",
        "print(Forest.head(5))"
      ]
    },
    {
      "cell_type": "markdown",
      "metadata": {
        "id": "WHeMpY0-LS7i"
      },
      "source": [
        "# Q2.\n",
        "How many observations are there in the dataset? How many observations are there with both a significant fire (burned area > 0) and rain? (10 points) [Relevent API1](https://pandas.pydata.org/pandas-docs/version/0.23/generated/pandas.DataFrame.shape.html) , [Relevant Pandas API 2](https://pandas.pydata.org/docs/getting_started/intro_tutorials/03_subset_data.html#)"
      ]
    },
    {
      "cell_type": "code",
      "execution_count": 3,
      "metadata": {
        "id": "hTabQVd2BRdm"
      },
      "outputs": [
        {
          "name": "stdout",
          "output_type": "stream",
          "text": [
            "There are 517 observations\n",
            "There are 270 observations with both a significant fire and rain\n"
          ]
        }
      ],
      "source": [
        "dataframe = pd.DataFrame(Forest)\n",
        "print(\"There are\" , dataframe.shape[0],\"observations\")\n",
        "area = dataframe.loc[dataframe[\"area\"] > 0, [\"area\", \"rain\"]]\n",
        "print(\"There are\" , area.shape[0],\"observations with both a significant fire and rain\")"
      ]
    },
    {
      "cell_type": "markdown",
      "metadata": {
        "id": "IDRxMGfWLg_O"
      },
      "source": [
        "# Q3.\n",
        "Show the columns month, day, area of all the observations with a significant fire (burned area >0 ). (10 points) [Relevant Pandas API](https://pandas.pydata.org/docs/reference/api/pandas.DataFrame.loc.html)\n"
      ]
    },
    {
      "cell_type": "code",
      "execution_count": 4,
      "metadata": {},
      "outputs": [
        {
          "name": "stdout",
          "output_type": "stream",
          "text": [
            "    month  day   area\n",
            "138   jul  tue   0.36\n",
            "139   sep  tue   0.43\n",
            "140   sep  mon   0.47\n",
            "141   aug  wed   0.55\n",
            "142   aug  fri   0.61\n",
            "..    ...  ...    ...\n",
            "509   aug  fri   2.17\n",
            "510   aug  fri   0.43\n",
            "512   aug  sun   6.44\n",
            "513   aug  sun  54.29\n",
            "514   aug  sun  11.16\n",
            "\n",
            "[270 rows x 3 columns]\n"
          ]
        }
      ],
      "source": [
        "SigFire= Forest.loc[Forest[\"area\"] > 0, [\"month\", \"day\" ,\"area\"]]\n",
        "print(SigFire)"
      ]
    },
    {
      "cell_type": "markdown",
      "metadata": {
        "id": "XrNuWHNOMq5p"
      },
      "source": [
        "# Q4.\n",
        "How large are the five largest fires (i.e. having largest area)? (10 points) [Relevant API](https://pandas.pydata.org/docs/reference/api/pandas.DataFrame.sort_values.html)"
      ]
    },
    {
      "cell_type": "code",
      "execution_count": 5,
      "metadata": {
        "id": "k8iFRuVMM1AI"
      },
      "outputs": [
        {
          "name": "stdout",
          "output_type": "stream",
          "text": [
            "The five largest fires are\n",
            "238    1090.84\n",
            "415     746.28\n",
            "479     278.53\n",
            "237     212.88\n",
            "236     200.94\n",
            "Name: area, dtype: float64\n"
          ]
        }
      ],
      "source": [
        "ForestFire = Forest.sort_values(by=\"area\", ascending = False)\n",
        "print(\"The five largest fires are\")\n",
        "print(ForestFire[\"area\"].head(5))"
      ]
    },
    {
      "cell_type": "markdown",
      "metadata": {
        "id": "3brpNkeAM9r_"
      },
      "source": [
        "# Q5.\n",
        "For the records you obtained from the previous question, what are the corresponding month, temp, RH, wind, rain, area? (10 points)"
      ]
    },
    {
      "cell_type": "code",
      "execution_count": 13,
      "metadata": {
        "id": "P0HxQEC5NHG9"
      },
      "outputs": [
        {
          "name": "stdout",
          "output_type": "stream",
          "text": [
            "    month  temp  RH  wind  rain     area\n",
            "238   sep  25.1  27   4.0   0.0  1090.84\n",
            "415   aug  27.5  27   4.9   0.0   746.28\n",
            "479   jul  22.6  57   4.9   0.0   278.53\n",
            "237   sep  18.8  40   2.2   0.0   212.88\n",
            "236   sep  18.2  46   1.8   0.0   200.94\n",
            "..    ...   ...  ..   ...   ...      ...\n",
            "439   sep  19.1  46   2.2   0.0     0.33\n",
            "251   aug  24.0  36   3.1   0.0     0.24\n",
            "252   aug  22.1  37   3.6   0.0     0.21\n",
            "266   aug  19.4  55   4.0   0.0     0.17\n",
            "246   aug  25.7  39   5.4   0.0     0.09\n",
            "\n",
            "[270 rows x 6 columns]\n"
          ]
        }
      ],
      "source": [
        "Records = ForestFire.loc[Forest[\"area\"] > 0,[\"month\", \"temp\" ,\"RH\",\"wind\", \"rain\", \"area\"]]\n",
        "print(Records)  "
      ]
    },
    {
      "cell_type": "markdown",
      "metadata": {
        "id": "o4UaGldlNy5w"
      },
      "source": [
        "# Q6.\n",
        "For the whole dataset, reorder factor levels of month to be from Jan to Dec. (10 points)"
      ]
    },
    {
      "cell_type": "code",
      "execution_count": 7,
      "metadata": {
        "id": "rZvskgbfN0x2"
      },
      "outputs": [
        {
          "name": "stdout",
          "output_type": "stream",
          "text": [
            "     X  Y month  day  FFMC   DMC     DC  ISI  temp   RH  wind  rain   area\n",
            "104  2  4   jan  sat  82.1   3.7    9.3  2.9   5.3   78   3.1   0.0   0.00\n",
            "379  4  5   jan  sun  18.7   1.1  171.4  0.0   5.2  100   0.9   0.0   0.00\n",
            "96   3  4   feb  sat  83.9   8.0   30.2  2.6  12.7   48   1.8   0.0   0.00\n",
            "59   2  2   feb  fri  86.6  13.2   43.0  5.3  12.3   51   0.9   0.0   0.00\n",
            "202  7  4   feb  sun  83.9   8.7   32.1  2.1   8.8   68   2.2   0.0  13.05\n",
            "..  .. ..   ...  ...   ...   ...    ...  ...   ...  ...   ...   ...    ...\n",
            "274  8  6   dec  wed  84.0  27.8  354.6  5.3   5.1   61   8.0   0.0  11.19\n",
            "281  6  5   dec  tue  85.4  25.4  349.7  2.6   5.1   24   8.5   0.0  24.77\n",
            "273  4  6   dec  sun  84.4  27.2  353.5  6.8   4.8   57   8.5   0.0   8.98\n",
            "279  4  4   dec  mon  85.4  25.4  349.7  2.6   4.6   21   8.5   0.0   9.77\n",
            "278  4  4   dec  mon  85.4  25.4  349.7  2.6   4.6   21   8.5   0.0  22.03\n",
            "\n",
            "[517 rows x 13 columns]\n"
          ]
        }
      ],
      "source": [
        "months = [\"jan\", \"feb\", \"mar\", \"apr\", \"may\", \"jun\", \n",
        "          \"jul\", \"aug\", \"sep\", \"oct\", \"nov\", \"dec\"]\n",
        "Forest[\"month\"] = pd.Categorical(Forest[\"month\"] , months ,ordered=True)\n",
        "print(Forest.sort_values([\"month\"]))"
      ]
    },
    {
      "cell_type": "markdown",
      "metadata": {
        "id": "bqIvFCPgNF-_"
      },
      "source": [
        "# Q7.\n",
        "Add one column to the data indicating whether a fire occurred for each observation ('TRUE' for area>0 and 'FALSE' for area==0). (10 points)"
      ]
    },
    {
      "cell_type": "code",
      "execution_count": 8,
      "metadata": {
        "id": "vfjm8H5COteH"
      },
      "outputs": [
        {
          "name": "stdout",
          "output_type": "stream",
          "text": [
            "     X  Y month  day  FFMC    DMC     DC   ISI  temp  RH  wind  rain     area  \\\n",
            "238  6  5   sep  sat  92.5  121.1  674.4   8.6  25.1  27   4.0   0.0  1090.84   \n",
            "415  8  6   aug  thu  94.8  222.4  698.6  13.9  27.5  27   4.9   0.0   746.28   \n",
            "479  7  4   jul  mon  89.2  103.9  431.6   6.4  22.6  57   4.9   0.0   278.53   \n",
            "237  1  2   sep  tue  91.0  129.5  692.6   7.0  18.8  40   2.2   0.0   212.88   \n",
            "236  2  2   sep  sat  92.5  121.1  674.4   8.6  18.2  46   1.8   0.0   200.94   \n",
            "..  .. ..   ...  ...   ...    ...    ...   ...   ...  ..   ...   ...      ...   \n",
            "11   7  5   sep  sat  92.8   73.2  713.0  22.6  19.3  38   4.0   0.0     0.00   \n",
            "10   7  5   sep  sat  92.5   88.0  698.6   7.1  17.8  51   7.2   0.0     0.00   \n",
            "258  3  4   aug  sat  91.8  170.9  692.3  13.7  20.6  59   0.9   0.0     0.00   \n",
            "500  8  6   aug  tue  96.1  181.1  671.2  14.3  21.6  65   4.9   0.8     0.00   \n",
            "5    8  6   aug  sun  92.3   85.3  488.0  14.7  22.2  29   5.4   0.0     0.00   \n",
            "\n",
            "      Fire  \n",
            "238   True  \n",
            "415   True  \n",
            "479   True  \n",
            "237   True  \n",
            "236   True  \n",
            "..     ...  \n",
            "11   False  \n",
            "10   False  \n",
            "258  False  \n",
            "500  False  \n",
            "5    False  \n",
            "\n",
            "[517 rows x 14 columns]\n"
          ]
        }
      ],
      "source": [
        "TFire = ForestFire.loc[Forest[\"area\"] > 0]\n",
        "FFire = ForestFire.loc[Forest[\"area\"] == 0]\n",
        "TFire = TFire.assign(Fire = True)\n",
        "FFire = FFire.assign(Fire = False)\n",
        "FireData = pd.concat([TFire,FFire])\n",
        "print(FireData)\n"
      ]
    },
    {
      "cell_type": "markdown",
      "metadata": {
        "id": "LneIVMYfPTYH"
      },
      "source": [
        "# Q8.\n",
        "What is the mean area/wind/temp/RH per month? (10 points)"
      ]
    },
    {
      "cell_type": "code",
      "execution_count": 9,
      "metadata": {
        "id": "tZHYITgvPXtS"
      },
      "outputs": [
        {
          "name": "stdout",
          "output_type": "stream",
          "text": [
            "The mean area per report is 12.847292069632493\n",
            "The mean wind per report is 4.017601547388782\n",
            "The mean temperature per report is 18.88916827852998\n",
            "The mean RH per report is 44.28820116054158\n",
            "Averages in jan: Area = 0 Wind = 2 Temp = 5 RH = 89\n",
            "Averages in feb: Area = 6 Wind = 3 Temp = 9 RH = 55\n",
            "Averages in mar: Area = 4 Wind = 4 Temp = 13 RH = 40\n",
            "Averages in apr: Area = 8 Wind = 4 Temp = 12 RH = 46\n",
            "Averages in may: Area = 19 Wind = 4 Temp = 14 RH = 67\n",
            "Averages in jun: Area = 5 Wind = 4 Temp = 20 RH = 45\n",
            "Averages in jul: Area = 14 Wind = 3 Temp = 22 RH = 45\n",
            "Averages in aug: Area = 12 Wind = 4 Temp = 21 RH = 45\n",
            "Averages in sep: Area = 17 Wind = 3 Temp = 19 RH = 42\n",
            "Averages in oct: Area = 6 Wind = 3 Temp = 17 RH = 37\n",
            "Averages in nov: Area = 0 Wind = 4 Temp = 11 RH = 31\n",
            "Averages in dec: Area = 13 Wind = 7 Temp = 4 RH = 38\n"
          ]
        }
      ],
      "source": [
        "print(\"The mean area per report is\",Forest.loc[:,\"area\"].mean())\n",
        "print(\"The mean wind per report is\",Forest.loc[:,\"wind\"].mean())\n",
        "print(\"The mean temperature per report is\",Forest.loc[:,\"temp\"].mean())\n",
        "print(\"The mean RH per report is\",Forest.loc[:,\"RH\"].mean())\n",
        "for month in months:\n",
        "    month_df = Forest.loc[Forest[\"month\"] == month]   \n",
        "    month_area = int(month_df[\"area\"].mean())\n",
        "    month_wind = int(month_df[\"wind\"].mean())\n",
        "    month_temp = int(month_df[\"temp\"].mean())\n",
        "    month_RH = int(month_df[\"RH\"].mean())\n",
        "    print(\"Averages in \" + str(month) + \": Area = \" + str(month_area) + \" Wind = \" + str(month_wind) + \" Temp = \" + str(month_temp) + \" RH = \" + str(month_RH))\n"
      ]
    },
    {
      "cell_type": "markdown",
      "metadata": {
        "id": "dBSX3xe0QcOl"
      },
      "source": [
        "# Q9.\n",
        "How many observations are there in each month? Visualize by using a barplot in descending order. (10 points) [Relevant API 1](https://pandas.pydata.org/docs/reference/api/pandas.Series.value_counts.html) [Relevant API  2](https://matplotlib.org/stable/api/_as_gen/matplotlib.pyplot.hist.html)"
      ]
    },
    {
      "cell_type": "code",
      "execution_count": 10,
      "metadata": {
        "id": "ptG7kM2MQaLX"
      },
      "outputs": [
        {
          "name": "stdout",
          "output_type": "stream",
          "text": [
            "Observations each month:\n",
            "month\n",
            "aug    184\n",
            "sep    172\n",
            "mar     54\n",
            "jul     32\n",
            "feb     20\n",
            "jun     17\n",
            "oct     15\n",
            "apr      9\n",
            "dec      9\n",
            "jan      2\n",
            "may      2\n",
            "nov      1\n",
            "Name: count, dtype: int64\n"
          ]
        },
        {
          "data": {
            "image/png": "[encoded data removed]",
            "text/plain": [
              "<Figure size 640x480 with 1 Axes>"
            ]
          },
          "metadata": {},
          "output_type": "display_data"
        }
      ],
      "source": [
        "observations_df = Forest[\"month\"].value_counts(normalize=False)\n",
        "print(\"Observations each month:\")\n",
        "print(observations_df)\n",
        "monthsDescend = Forest[\"month\"].value_counts().index\n",
        "observations_df.sort_values\n",
        "fig, ax = plt.subplots()\n",
        "ax.set_ylabel('Number Of Observations')\n",
        "ax.set_xlabel('Month')\n",
        "ax.set_title('Observations Per Month')\n",
        "x = plt.bar(monthsDescend,observations_df)\n"
      ]
    },
    {
      "cell_type": "markdown",
      "metadata": {
        "id": "aAJoou94QgGT"
      },
      "source": [
        "# Q10.\n",
        "How many observations are there with burned area greater than zero in each month? Visualize by using a barplot in descending order. (10 points)"
      ]
    },
    {
      "cell_type": "code",
      "execution_count": 11,
      "metadata": {
        "id": "Flfqh9IuQk9g"
      },
      "outputs": [
        {
          "name": "stdout",
          "output_type": "stream",
          "text": [
            "     X  Y month  day  FFMC    DMC     DC   ISI  temp  RH  wind  rain   area\n",
            "138  9  9   jul  tue  85.8   48.3  313.4   3.9  18.0  42   2.7   0.0   0.36\n",
            "139  1  4   sep  tue  91.0  129.5  692.6   7.0  21.7  38   2.2   0.0   0.43\n",
            "140  2  5   sep  mon  90.9  126.5  686.5   7.0  21.9  39   1.8   0.0   0.47\n",
            "141  1  2   aug  wed  95.5   99.9  513.3  13.2  23.3  31   4.5   0.0   0.55\n",
            "142  8  6   aug  fri  90.1  108.0  529.8  12.5  21.2  51   8.9   0.0   0.61\n",
            "..  .. ..   ...  ...   ...    ...    ...   ...   ...  ..   ...   ...    ...\n",
            "509  5  4   aug  fri  91.0  166.9  752.6   7.1  21.1  71   7.6   1.4   2.17\n",
            "510  6  5   aug  fri  91.0  166.9  752.6   7.1  18.2  62   5.4   0.0   0.43\n",
            "512  4  3   aug  sun  81.6   56.7  665.6   1.9  27.8  32   2.7   0.0   6.44\n",
            "513  2  4   aug  sun  81.6   56.7  665.6   1.9  21.9  71   5.8   0.0  54.29\n",
            "514  7  4   aug  sun  81.6   56.7  665.6   1.9  21.2  70   6.7   0.0  11.16\n",
            "\n",
            "[270 rows x 13 columns]\n"
          ]
        },
        {
          "data": {
            "text/plain": [
              "<BarContainer object of 12 artists>"
            ]
          },
          "execution_count": 11,
          "metadata": {},
          "output_type": "execute_result"
        },
        {
          "data": {
            "image/png": "[encoded data removed]",
            "text/plain": [
              "<Figure size 640x480 with 1 Axes>"
            ]
          },
          "metadata": {},
          "output_type": "display_data"
        }
      ],
      "source": [
        "newForest = Forest.loc[Forest[\"area\"] > 0]\n",
        "print(newForest)\n",
        "x = newForest[\"month\"].value_counts(normalize=False)\n",
        "newmonthsDescend = newForest[\"month\"].value_counts().index\n",
        "x.sort_values\n",
        "fig, ax = plt.subplots()\n",
        "ax.set_ylabel('Number Of Observations')\n",
        "ax.set_xlabel('Month')\n",
        "ax.set_title('Observations With Burned Area')\n",
        "plt.bar(newmonthsDescend,x)"
      ]
    },
    {
      "cell_type": "markdown",
      "metadata": {
        "id": "iIvLfsi-bz2Z"
      },
      "source": [
        "This is the end of Assignment 1\n",
        "\n",
        "Ceni Babaoglu, PhD"
      ]
    }
  ],
  "metadata": {
    "colab": {
      "provenance": []
    },
    "kernelspec": {
      "display_name": "Python 3",
      "language": "python",
      "name": "python3"
    },
    "language_info": {
      "codemirror_mode": {
        "name": "ipython",
        "version": 3
      },
      "file_extension": ".py",
      "mimetype": "text/x-python",
      "name": "python",
      "nbconvert_exporter": "python",
      "pygments_lexer": "ipython3",
      "version": "3.12.4"
    },
    "nteract": {
      "version": "0.25.0"
    },
    "varInspector": {
      "cols": {
        "lenName": 16,
        "lenType": 16,
        "lenVar": 40
      },
      "kernels_config": {
        "python": {
          "delete_cmd_postfix": "",
          "delete_cmd_prefix": "del ",
          "library": "var_list.py",
          "varRefreshCmd": "print(var_dic_list())"
        },
        "r": {
          "delete_cmd_postfix": ") ",
          "delete_cmd_prefix": "rm(",
          "library": "var_list.r",
          "varRefreshCmd": "cat(var_dic_list()) "
        }
      },
      "types_to_exclude": [
        "module",
        "function",
        "builtin_function_or_method",
        "instance",
        "_Feature"
      ],
      "window_display": false
    }
  },
  "nbformat": 4,
  "nbformat_minor": 0
}
