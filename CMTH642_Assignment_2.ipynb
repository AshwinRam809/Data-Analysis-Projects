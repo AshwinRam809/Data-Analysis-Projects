{
  "cells": [
    {
      "cell_type": "markdown",
      "metadata": {
        "id": "BS-d6xdkllWd"
      },
      "source": []
    },
    {
      "cell_type": "code",
      "execution_count": null,
      "metadata": {},
      "outputs": [],
      "source": []
    },
    {
      "cell_type": "markdown",
      "metadata": {
        "id": "TX_-QfCapg5r"
      },
      "source": [
        "## CMTH642 - Data Analytics: Advanced Methods  \n",
        "### Assignment 2\n"
      ]
    },
    {
      "cell_type": "markdown",
      "metadata": {
        "id": "KPUF4R_NlrMT"
      },
      "source": [
        "Assignment 2 is worth 15% of the final grade. Submit the ipynb file and a generated output file (PDF or HTML). Failing to submit both files will be subject to a mark deduction.\n",
        "\n",
        "Your output file should include all the tables, plots, and requested figures/values.\n",
        "\n",
        "Printing the lengthy outputs (e.g., the whole data frame or a list with more than 100 elements) will have a deduction of 5 points. Instead, please use head() or tail() to have a neat output.\n",
        "\n",
        "If you preprocess the data in a question, you should continue with the same dataset in the following questions unless otherwise mentioned.\n"
      ]
    },
    {
      "cell_type": "markdown",
      "metadata": {
        "id": "s2h0BVIqmIpE"
      },
      "source": [
        "### Preparation:\n",
        "\n",
        "The dataset is related to Portuguese \"Vinho Verde\" wines. For more info:\n",
        "https://archive.ics.uci.edu/ml/datasets/Wine+Quality\n",
        "\n",
        "Import the following files:\n",
        "http://archive.ics.uci.edu/ml/machine-learning-databases/wine-quality/winequality-white.csv    \n",
        "http://archive.ics.uci.edu/ml/machine-learning-databases/wine-quality/winequality-red.csv\n"
      ]
    },
    {
      "cell_type": "markdown",
      "metadata": {
        "id": "xm7GwIpdH12O"
      },
      "source": [
        "### Question 1\n",
        "\n",
        "\n",
        "\n",
        "1) Read the white wine as a pandas dataframe and name it wine_data_white. **Display the first 3 rows of wine_data_white.**\n",
        "<br>\n",
        "2) Read the red wine as a pandas dataframe and name it wine_data_red. **Display the first 3 rows of wine_data_red.**\n",
        "<br>\n",
        "3) Join the wine_data_red and wine_data_white datasets by adding the rows of one to the other. Name the joined dataframe wine_data. **Display the total number of rows and columns in the wine_data dataframe.**\n",
        "\n",
        "\n",
        "The following questions will be evaluated for wine_data. (2 points)\n",
        "\n"
      ]
    },
    {
      "cell_type": "code",
      "execution_count": 519,
      "metadata": {
        "id": "eLJzRNJL67kc"
      },
      "outputs": [],
      "source": [
        "import pandas as pd\n",
        "from scipy.stats import pearsonr\n",
        "import matplotlib.pyplot as plt\n",
        "import numpy as np\n",
        "from sklearn.model_selection import train_test_split\n",
        "from sklearn.linear_model import LogisticRegression\n",
        "from sklearn.neighbors import KNeighborsClassifier"
      ]
    },
    {
      "cell_type": "code",
      "execution_count": 520,
      "metadata": {
        "id": "G9UKUVoW2jTN"
      },
      "outputs": [
        {
          "name": "stdout",
          "output_type": "stream",
          "text": [
            "The first three records of wine_data_white\n",
            "    fixed acidity  volatile acidity  citric acid  residual sugar  chlorides  \\\n",
            "0            7.0              0.27         0.36            20.7      0.045   \n",
            "1            6.3              0.30         0.34             1.6      0.049   \n",
            "2            8.1              0.28         0.40             6.9      0.050   \n",
            "\n",
            "   free sulfur dioxide  total sulfur dioxide  density    pH  sulphates  \\\n",
            "0                 45.0                 170.0   1.0010  3.00       0.45   \n",
            "1                 14.0                 132.0   0.9940  3.30       0.49   \n",
            "2                 30.0                  97.0   0.9951  3.26       0.44   \n",
            "\n",
            "   alcohol  quality  \n",
            "0      8.8        6  \n",
            "1      9.5        6  \n",
            "2     10.1        6  \n",
            "The first three records of wine_data_red\n",
            "    fixed acidity  volatile acidity  citric acid  residual sugar  chlorides  \\\n",
            "0            7.4              0.70         0.00             1.9      0.076   \n",
            "1            7.8              0.88         0.00             2.6      0.098   \n",
            "2            7.8              0.76         0.04             2.3      0.092   \n",
            "\n",
            "   free sulfur dioxide  total sulfur dioxide  density    pH  sulphates  \\\n",
            "0                 11.0                  34.0   0.9978  3.51       0.56   \n",
            "1                 25.0                  67.0   0.9968  3.20       0.68   \n",
            "2                 15.0                  54.0   0.9970  3.26       0.65   \n",
            "\n",
            "   alcohol  quality  \n",
            "0      9.4        5  \n",
            "1      9.8        5  \n",
            "2      9.8        5  \n",
            "(6497, 12)\n"
          ]
        }
      ],
      "source": [
        "wine_data_white = pd.read_csv(\"http://archive.ics.uci.edu/ml/machine-learning-databases/wine-quality/winequality-white.csv\" , sep= \";\")\n",
        "wine_data_red = pd.read_csv(\"http://archive.ics.uci.edu/ml/machine-learning-databases/wine-quality/winequality-red.csv\" , sep= \";\")\n",
        "print(\"The first three records of wine_data_white\\n\" , wine_data_white.head(3))\n",
        "print(\"The first three records of wine_data_red\\n\" ,wine_data_red.head(3))\n",
        "wine_data = pd.concat([wine_data_red,wine_data_white])\n",
        "print(wine_data.shape)"
      ]
    },
    {
      "cell_type": "markdown",
      "metadata": {
        "id": "_s6g0tee67kr"
      },
      "source": [
        "### Question 2\n",
        "Check the data types of the attributes. (2 points)"
      ]
    },
    {
      "cell_type": "code",
      "execution_count": 521,
      "metadata": {
        "id": "0FoGozgK2jTO"
      },
      "outputs": [
        {
          "data": {
            "text/plain": [
              "fixed acidity           float64\n",
              "volatile acidity        float64\n",
              "citric acid             float64\n",
              "residual sugar          float64\n",
              "chlorides               float64\n",
              "free sulfur dioxide     float64\n",
              "total sulfur dioxide    float64\n",
              "density                 float64\n",
              "pH                      float64\n",
              "sulphates               float64\n",
              "alcohol                 float64\n",
              "quality                   int64\n",
              "dtype: object"
            ]
          },
          "execution_count": 521,
          "metadata": {},
          "output_type": "execute_result"
        }
      ],
      "source": [
        "wine_data.dtypes"
      ]
    },
    {
      "cell_type": "markdown",
      "metadata": {
        "id": "xAvoOQnu67kv"
      },
      "source": [
        "### Question 3\n",
        "Are there any missing values in the dataset? How many? You should not print the whole dataset. (2 points)"
      ]
    },
    {
      "cell_type": "code",
      "execution_count": 522,
      "metadata": {
        "id": "ClM56s8_2jTO"
      },
      "outputs": [
        {
          "name": "stdout",
          "output_type": "stream",
          "text": [
            "fixed acidity           0\n",
            "volatile acidity        0\n",
            "citric acid             0\n",
            "residual sugar          0\n",
            "chlorides               0\n",
            "free sulfur dioxide     0\n",
            "total sulfur dioxide    0\n",
            "density                 0\n",
            "pH                      0\n",
            "sulphates               0\n",
            "alcohol                 0\n",
            "quality                 0\n",
            "dtype: int64\n",
            "There are no missing values\n"
          ]
        }
      ],
      "source": [
        "print(wine_data.isnull().sum())\n",
        "print(\"There are no missing values\")"
      ]
    },
    {
      "cell_type": "markdown",
      "metadata": {
        "id": "TnITuRoZ67kw"
      },
      "source": [
        "### Question 4\n",
        "\n",
        "Ignoring the quality column (a categorical column), display the pearson correlation between all the attributes? (8 points)"
      ]
    },
    {
      "cell_type": "code",
      "execution_count": 523,
      "metadata": {
        "id": "2Vl6gulm2jTO"
      },
      "outputs": [
        {
          "data": {
            "text/html": [
              "<div>\n",
              "<style scoped>\n",
              "    .dataframe tbody tr th:only-of-type {\n",
              "        vertical-align: middle;\n",
              "    }\n",
              "\n",
              "    .dataframe tbody tr th {\n",
              "        vertical-align: top;\n",
              "    }\n",
              "\n",
              "    .dataframe thead th {\n",
              "        text-align: right;\n",
              "    }\n",
              "</style>\n",
              "<table border=\"1\" class=\"dataframe\">\n",
              "  <thead>\n",
              "    <tr style=\"text-align: right;\">\n",
              "      <th></th>\n",
              "      <th>quality</th>\n",
              "      <th>alcohol</th>\n",
              "      <th>sulphates</th>\n",
              "      <th>pH</th>\n",
              "      <th>density</th>\n",
              "      <th>total sulfur dioxide</th>\n",
              "      <th>free sulfur dioxide</th>\n",
              "      <th>chlorides</th>\n",
              "      <th>residual sugar</th>\n",
              "      <th>citric acid</th>\n",
              "      <th>volatile acidity</th>\n",
              "      <th>fixed acidity</th>\n",
              "    </tr>\n",
              "  </thead>\n",
              "  <tbody>\n",
              "    <tr>\n",
              "      <th>fixed acidity</th>\n",
              "      <td>-0.076743</td>\n",
              "      <td>-0.095452</td>\n",
              "      <td>0.299568</td>\n",
              "      <td>-0.252700</td>\n",
              "      <td>0.458910</td>\n",
              "      <td>-0.329054</td>\n",
              "      <td>-0.282735</td>\n",
              "      <td>0.298195</td>\n",
              "      <td>-0.111981</td>\n",
              "      <td>0.324436</td>\n",
              "      <td>0.219008</td>\n",
              "      <td>1.000000</td>\n",
              "    </tr>\n",
              "    <tr>\n",
              "      <th>volatile acidity</th>\n",
              "      <td>-0.265699</td>\n",
              "      <td>-0.037640</td>\n",
              "      <td>0.225984</td>\n",
              "      <td>0.261454</td>\n",
              "      <td>0.271296</td>\n",
              "      <td>-0.414476</td>\n",
              "      <td>-0.352557</td>\n",
              "      <td>0.377124</td>\n",
              "      <td>-0.196011</td>\n",
              "      <td>-0.377981</td>\n",
              "      <td>1.000000</td>\n",
              "      <td>0.219008</td>\n",
              "    </tr>\n",
              "    <tr>\n",
              "      <th>citric acid</th>\n",
              "      <td>0.085532</td>\n",
              "      <td>-0.010493</td>\n",
              "      <td>0.056197</td>\n",
              "      <td>-0.329808</td>\n",
              "      <td>0.096154</td>\n",
              "      <td>0.195242</td>\n",
              "      <td>0.133126</td>\n",
              "      <td>0.038998</td>\n",
              "      <td>0.142451</td>\n",
              "      <td>1.000000</td>\n",
              "      <td>-0.377981</td>\n",
              "      <td>0.324436</td>\n",
              "    </tr>\n",
              "    <tr>\n",
              "      <th>residual sugar</th>\n",
              "      <td>-0.036980</td>\n",
              "      <td>-0.359415</td>\n",
              "      <td>-0.185927</td>\n",
              "      <td>-0.267320</td>\n",
              "      <td>0.552517</td>\n",
              "      <td>0.495482</td>\n",
              "      <td>0.402871</td>\n",
              "      <td>-0.128940</td>\n",
              "      <td>1.000000</td>\n",
              "      <td>0.142451</td>\n",
              "      <td>-0.196011</td>\n",
              "      <td>-0.111981</td>\n",
              "    </tr>\n",
              "    <tr>\n",
              "      <th>chlorides</th>\n",
              "      <td>-0.200666</td>\n",
              "      <td>-0.256916</td>\n",
              "      <td>0.395593</td>\n",
              "      <td>0.044708</td>\n",
              "      <td>0.362615</td>\n",
              "      <td>-0.279630</td>\n",
              "      <td>-0.195045</td>\n",
              "      <td>1.000000</td>\n",
              "      <td>-0.128940</td>\n",
              "      <td>0.038998</td>\n",
              "      <td>0.377124</td>\n",
              "      <td>0.298195</td>\n",
              "    </tr>\n",
              "    <tr>\n",
              "      <th>free sulfur dioxide</th>\n",
              "      <td>0.055463</td>\n",
              "      <td>-0.179838</td>\n",
              "      <td>-0.188457</td>\n",
              "      <td>-0.145854</td>\n",
              "      <td>0.025717</td>\n",
              "      <td>0.720934</td>\n",
              "      <td>1.000000</td>\n",
              "      <td>-0.195045</td>\n",
              "      <td>0.402871</td>\n",
              "      <td>0.133126</td>\n",
              "      <td>-0.352557</td>\n",
              "      <td>-0.282735</td>\n",
              "    </tr>\n",
              "    <tr>\n",
              "      <th>total sulfur dioxide</th>\n",
              "      <td>-0.041385</td>\n",
              "      <td>-0.265740</td>\n",
              "      <td>-0.275727</td>\n",
              "      <td>-0.238413</td>\n",
              "      <td>0.032395</td>\n",
              "      <td>1.000000</td>\n",
              "      <td>0.720934</td>\n",
              "      <td>-0.279630</td>\n",
              "      <td>0.495482</td>\n",
              "      <td>0.195242</td>\n",
              "      <td>-0.414476</td>\n",
              "      <td>-0.329054</td>\n",
              "    </tr>\n",
              "    <tr>\n",
              "      <th>density</th>\n",
              "      <td>-0.305858</td>\n",
              "      <td>-0.686745</td>\n",
              "      <td>0.259478</td>\n",
              "      <td>0.011686</td>\n",
              "      <td>1.000000</td>\n",
              "      <td>0.032395</td>\n",
              "      <td>0.025717</td>\n",
              "      <td>0.362615</td>\n",
              "      <td>0.552517</td>\n",
              "      <td>0.096154</td>\n",
              "      <td>0.271296</td>\n",
              "      <td>0.458910</td>\n",
              "    </tr>\n",
              "    <tr>\n",
              "      <th>pH</th>\n",
              "      <td>0.019506</td>\n",
              "      <td>0.121248</td>\n",
              "      <td>0.192123</td>\n",
              "      <td>1.000000</td>\n",
              "      <td>0.011686</td>\n",
              "      <td>-0.238413</td>\n",
              "      <td>-0.145854</td>\n",
              "      <td>0.044708</td>\n",
              "      <td>-0.267320</td>\n",
              "      <td>-0.329808</td>\n",
              "      <td>0.261454</td>\n",
              "      <td>-0.252700</td>\n",
              "    </tr>\n",
              "    <tr>\n",
              "      <th>sulphates</th>\n",
              "      <td>0.038485</td>\n",
              "      <td>-0.003029</td>\n",
              "      <td>1.000000</td>\n",
              "      <td>0.192123</td>\n",
              "      <td>0.259478</td>\n",
              "      <td>-0.275727</td>\n",
              "      <td>-0.188457</td>\n",
              "      <td>0.395593</td>\n",
              "      <td>-0.185927</td>\n",
              "      <td>0.056197</td>\n",
              "      <td>0.225984</td>\n",
              "      <td>0.299568</td>\n",
              "    </tr>\n",
              "    <tr>\n",
              "      <th>alcohol</th>\n",
              "      <td>0.444319</td>\n",
              "      <td>1.000000</td>\n",
              "      <td>-0.003029</td>\n",
              "      <td>0.121248</td>\n",
              "      <td>-0.686745</td>\n",
              "      <td>-0.265740</td>\n",
              "      <td>-0.179838</td>\n",
              "      <td>-0.256916</td>\n",
              "      <td>-0.359415</td>\n",
              "      <td>-0.010493</td>\n",
              "      <td>-0.037640</td>\n",
              "      <td>-0.095452</td>\n",
              "    </tr>\n",
              "    <tr>\n",
              "      <th>quality</th>\n",
              "      <td>1.000000</td>\n",
              "      <td>0.444319</td>\n",
              "      <td>0.038485</td>\n",
              "      <td>0.019506</td>\n",
              "      <td>-0.305858</td>\n",
              "      <td>-0.041385</td>\n",
              "      <td>0.055463</td>\n",
              "      <td>-0.200666</td>\n",
              "      <td>-0.036980</td>\n",
              "      <td>0.085532</td>\n",
              "      <td>-0.265699</td>\n",
              "      <td>-0.076743</td>\n",
              "    </tr>\n",
              "  </tbody>\n",
              "</table>\n",
              "</div>"
            ],
            "text/plain": [
              "                       quality   alcohol  sulphates        pH   density  \\\n",
              "fixed acidity        -0.076743 -0.095452   0.299568 -0.252700  0.458910   \n",
              "volatile acidity     -0.265699 -0.037640   0.225984  0.261454  0.271296   \n",
              "citric acid           0.085532 -0.010493   0.056197 -0.329808  0.096154   \n",
              "residual sugar       -0.036980 -0.359415  -0.185927 -0.267320  0.552517   \n",
              "chlorides            -0.200666 -0.256916   0.395593  0.044708  0.362615   \n",
              "free sulfur dioxide   0.055463 -0.179838  -0.188457 -0.145854  0.025717   \n",
              "total sulfur dioxide -0.041385 -0.265740  -0.275727 -0.238413  0.032395   \n",
              "density              -0.305858 -0.686745   0.259478  0.011686  1.000000   \n",
              "pH                    0.019506  0.121248   0.192123  1.000000  0.011686   \n",
              "sulphates             0.038485 -0.003029   1.000000  0.192123  0.259478   \n",
              "alcohol               0.444319  1.000000  -0.003029  0.121248 -0.686745   \n",
              "quality               1.000000  0.444319   0.038485  0.019506 -0.305858   \n",
              "\n",
              "                      total sulfur dioxide  free sulfur dioxide  chlorides  \\\n",
              "fixed acidity                    -0.329054            -0.282735   0.298195   \n",
              "volatile acidity                 -0.414476            -0.352557   0.377124   \n",
              "citric acid                       0.195242             0.133126   0.038998   \n",
              "residual sugar                    0.495482             0.402871  -0.128940   \n",
              "chlorides                        -0.279630            -0.195045   1.000000   \n",
              "free sulfur dioxide               0.720934             1.000000  -0.195045   \n",
              "total sulfur dioxide              1.000000             0.720934  -0.279630   \n",
              "density                           0.032395             0.025717   0.362615   \n",
              "pH                               -0.238413            -0.145854   0.044708   \n",
              "sulphates                        -0.275727            -0.188457   0.395593   \n",
              "alcohol                          -0.265740            -0.179838  -0.256916   \n",
              "quality                          -0.041385             0.055463  -0.200666   \n",
              "\n",
              "                      residual sugar  citric acid  volatile acidity  \\\n",
              "fixed acidity              -0.111981     0.324436          0.219008   \n",
              "volatile acidity           -0.196011    -0.377981          1.000000   \n",
              "citric acid                 0.142451     1.000000         -0.377981   \n",
              "residual sugar              1.000000     0.142451         -0.196011   \n",
              "chlorides                  -0.128940     0.038998          0.377124   \n",
              "free sulfur dioxide         0.402871     0.133126         -0.352557   \n",
              "total sulfur dioxide        0.495482     0.195242         -0.414476   \n",
              "density                     0.552517     0.096154          0.271296   \n",
              "pH                         -0.267320    -0.329808          0.261454   \n",
              "sulphates                  -0.185927     0.056197          0.225984   \n",
              "alcohol                    -0.359415    -0.010493         -0.037640   \n",
              "quality                    -0.036980     0.085532         -0.265699   \n",
              "\n",
              "                      fixed acidity  \n",
              "fixed acidity              1.000000  \n",
              "volatile acidity           0.219008  \n",
              "citric acid                0.324436  \n",
              "residual sugar            -0.111981  \n",
              "chlorides                  0.298195  \n",
              "free sulfur dioxide       -0.282735  \n",
              "total sulfur dioxide      -0.329054  \n",
              "density                    0.458910  \n",
              "pH                        -0.252700  \n",
              "sulphates                  0.299568  \n",
              "alcohol                   -0.095452  \n",
              "quality                   -0.076743  "
            ]
          },
          "metadata": {},
          "output_type": "display_data"
        }
      ],
      "source": [
        "pcorr = pd.DataFrame()\n",
        "names = []\n",
        "for i in wine_data:\n",
        "    names.append(i)\n",
        "    temp = []\n",
        "    for j in wine_data:\n",
        "        corr,_ = pearsonr(wine_data[i],wine_data[j])\n",
        "        temp.append(corr)\n",
        "    pcorr.insert(0, i, temp, True)\n",
        "pcorr.index = names\n",
        "display(pcorr)"
      ]
    },
    {
      "cell_type": "markdown",
      "metadata": {
        "id": "DVh2ZDUr67ky"
      },
      "source": [
        "### Question 5\n",
        "Using 'quality' attribute, do the following: <br>\n",
        "* Display the different values of wine quality. How many levels of wine quality are in this dataset?\n",
        "<br>\n",
        "* Plot the frequency distribution of wine quality by using the Quality attribute.\n",
        "<br>\n",
        "(8 points)"
      ]
    },
    {
      "cell_type": "code",
      "execution_count": 524,
      "metadata": {
        "id": "ZNiqlhb72jTP"
      },
      "outputs": [
        {
          "name": "stdout",
          "output_type": "stream",
          "text": [
            "The levels of wine quality are [5 6 7 4 8 3 9]\n"
          ]
        },
        {
          "data": {
            "image/png": "[encoded data removed]",
            "text/plain": [
              "<Figure size 640x480 with 1 Axes>"
            ]
          },
          "metadata": {},
          "output_type": "display_data"
        }
      ],
      "source": [
        "print(\"The levels of wine quality are\" , wine_data[\"quality\"].unique())\n",
        "fig, ax = plt.subplots()\n",
        "ax.set_ylabel('Number Of Observations')\n",
        "ax.set_xlabel('Wine Quality')\n",
        "ax.set_title('Wine Quality Frequency')\n",
        "x = plt.hist(wine_data[\"quality\"], bins=np.arange(3,10))\n",
        "\n"
      ]
    },
    {
      "cell_type": "markdown",
      "metadata": {
        "id": "-rwkqF6f67k0"
      },
      "source": [
        "### Question 6\n",
        "\n",
        "We want to create a new column called 'quality_new' to group these 7 levels of quality ratings and reduce them to two distinguishable levels. (10 points)\n",
        "\n",
        "1) Create the new_quality variable as per the conditions above.\n",
        "<br>\n",
        "2) How many wines pass the quality test and how many fail? Display the total count of wines having a 0 quality rating level and those having a 1 quality rating level.\n",
        "<br>\n",
        "3) Drop the 'quality' column from the wine_data. We will be using 'quality_new' going forward.\n",
        "\n",
        "\n",
        "- **Condition** We assume levels :\n",
        "    - 3, 4, and 5 to be bad grade wine level. We replace any of those quality level numbers to 0 ('Fail')\n",
        "    - 6, 7, 8, 9 to be good grade wine level. We replace any of those quality level numbers to 1 ('Pass')"
      ]
    },
    {
      "cell_type": "code",
      "execution_count": 525,
      "metadata": {
        "id": "W7xLRyYT2jTP"
      },
      "outputs": [
        {
          "name": "stdout",
          "output_type": "stream",
          "text": [
            "2384 wines failed the quality test\n",
            "4113 wines passed the quality test\n"
          ]
        },
        {
          "data": {
            "text/html": [
              "<div>\n",
              "<style scoped>\n",
              "    .dataframe tbody tr th:only-of-type {\n",
              "        vertical-align: middle;\n",
              "    }\n",
              "\n",
              "    .dataframe tbody tr th {\n",
              "        vertical-align: top;\n",
              "    }\n",
              "\n",
              "    .dataframe thead th {\n",
              "        text-align: right;\n",
              "    }\n",
              "</style>\n",
              "<table border=\"1\" class=\"dataframe\">\n",
              "  <thead>\n",
              "    <tr style=\"text-align: right;\">\n",
              "      <th></th>\n",
              "      <th>fixed acidity</th>\n",
              "      <th>volatile acidity</th>\n",
              "      <th>citric acid</th>\n",
              "      <th>residual sugar</th>\n",
              "      <th>chlorides</th>\n",
              "      <th>free sulfur dioxide</th>\n",
              "      <th>total sulfur dioxide</th>\n",
              "      <th>density</th>\n",
              "      <th>pH</th>\n",
              "      <th>sulphates</th>\n",
              "      <th>alcohol</th>\n",
              "      <th>quality_new</th>\n",
              "    </tr>\n",
              "  </thead>\n",
              "  <tbody>\n",
              "    <tr>\n",
              "      <th>4895</th>\n",
              "      <td>6.5</td>\n",
              "      <td>0.24</td>\n",
              "      <td>0.19</td>\n",
              "      <td>1.2</td>\n",
              "      <td>0.041</td>\n",
              "      <td>30.0</td>\n",
              "      <td>111.0</td>\n",
              "      <td>0.99254</td>\n",
              "      <td>2.99</td>\n",
              "      <td>0.46</td>\n",
              "      <td>9.4</td>\n",
              "      <td>1</td>\n",
              "    </tr>\n",
              "    <tr>\n",
              "      <th>4896</th>\n",
              "      <td>5.5</td>\n",
              "      <td>0.29</td>\n",
              "      <td>0.30</td>\n",
              "      <td>1.1</td>\n",
              "      <td>0.022</td>\n",
              "      <td>20.0</td>\n",
              "      <td>110.0</td>\n",
              "      <td>0.98869</td>\n",
              "      <td>3.34</td>\n",
              "      <td>0.38</td>\n",
              "      <td>12.8</td>\n",
              "      <td>1</td>\n",
              "    </tr>\n",
              "    <tr>\n",
              "      <th>4897</th>\n",
              "      <td>6.0</td>\n",
              "      <td>0.21</td>\n",
              "      <td>0.38</td>\n",
              "      <td>0.8</td>\n",
              "      <td>0.020</td>\n",
              "      <td>22.0</td>\n",
              "      <td>98.0</td>\n",
              "      <td>0.98941</td>\n",
              "      <td>3.26</td>\n",
              "      <td>0.32</td>\n",
              "      <td>11.8</td>\n",
              "      <td>1</td>\n",
              "    </tr>\n",
              "  </tbody>\n",
              "</table>\n",
              "</div>"
            ],
            "text/plain": [
              "      fixed acidity  volatile acidity  citric acid  residual sugar  chlorides  \\\n",
              "4895            6.5              0.24         0.19             1.2      0.041   \n",
              "4896            5.5              0.29         0.30             1.1      0.022   \n",
              "4897            6.0              0.21         0.38             0.8      0.020   \n",
              "\n",
              "      free sulfur dioxide  total sulfur dioxide  density    pH  sulphates  \\\n",
              "4895                 30.0                 111.0  0.99254  2.99       0.46   \n",
              "4896                 20.0                 110.0  0.98869  3.34       0.38   \n",
              "4897                 22.0                  98.0  0.98941  3.26       0.32   \n",
              "\n",
              "      alcohol  quality_new  \n",
              "4895      9.4            1  \n",
              "4896     12.8            1  \n",
              "4897     11.8            1  "
            ]
          },
          "metadata": {},
          "output_type": "display_data"
        },
        {
          "name": "stdout",
          "output_type": "stream",
          "text": [
            "(6497, 12)\n"
          ]
        }
      ],
      "source": [
        "BWine = wine_data.loc[wine_data[\"quality\"] <= 5]\n",
        "GWine = wine_data.loc[wine_data[\"quality\"] >= 6]\n",
        "print(BWine.shape[0], \"wines failed the quality test\")\n",
        "print(GWine.shape[0], \"wines passed the quality test\")\n",
        "BWine = BWine.assign(quality_new = 0)\n",
        "GWine = GWine.assign(quality_new = 1)\n",
        "wine_data = pd.concat([BWine,GWine])\n",
        "wine_data = wine_data.drop(\"quality\", axis = 1)\n",
        "display(wine_data.tail(3))\n",
        "print(wine_data.shape)"
      ]
    },
    {
      "cell_type": "markdown",
      "metadata": {
        "id": "Uw_zd-JM67k1"
      },
      "source": [
        "### Question 7\n",
        "Normalize the numeric attributes using the following normalization using the following method: (x - min(x)) / (max(x) - min(x)).\n",
        "<br>\n",
        "**Display the first 3 rows and last 3 rows of your final output.** (10 points)\n",
        "\n",
        "* *Hint/Optional*\n",
        "    * First create a new dataframe with only numeric variables (remove 'quality_new'). Call it wine_data_num.\n",
        "    * Then apply normalization on wine_data_num.\n",
        "    * Then ensure to join 'quality_new' column from the original wine_data dataframe to the normalized data.\n",
        "    * To ensure ensure code readability best practices, ensure your final normalized data that includes quality_new variable is called : 'wine_data_normalized'"
      ]
    },
    {
      "cell_type": "code",
      "execution_count": 526,
      "metadata": {
        "id": "0nOm3Eaj2jTP"
      },
      "outputs": [
        {
          "data": {
            "text/html": [
              "<div>\n",
              "<style scoped>\n",
              "    .dataframe tbody tr th:only-of-type {\n",
              "        vertical-align: middle;\n",
              "    }\n",
              "\n",
              "    .dataframe tbody tr th {\n",
              "        vertical-align: top;\n",
              "    }\n",
              "\n",
              "    .dataframe thead th {\n",
              "        text-align: right;\n",
              "    }\n",
              "</style>\n",
              "<table border=\"1\" class=\"dataframe\">\n",
              "  <thead>\n",
              "    <tr style=\"text-align: right;\">\n",
              "      <th></th>\n",
              "      <th>fixed acidity</th>\n",
              "      <th>volatile acidity</th>\n",
              "      <th>citric acid</th>\n",
              "      <th>residual sugar</th>\n",
              "      <th>chlorides</th>\n",
              "      <th>free sulfur dioxide</th>\n",
              "      <th>total sulfur dioxide</th>\n",
              "      <th>density</th>\n",
              "      <th>pH</th>\n",
              "      <th>sulphates</th>\n",
              "      <th>alcohol</th>\n",
              "      <th>quality_new</th>\n",
              "    </tr>\n",
              "  </thead>\n",
              "  <tbody>\n",
              "    <tr>\n",
              "      <th>0</th>\n",
              "      <td>0.297521</td>\n",
              "      <td>0.413333</td>\n",
              "      <td>0.000000</td>\n",
              "      <td>0.019939</td>\n",
              "      <td>0.111296</td>\n",
              "      <td>0.034722</td>\n",
              "      <td>0.064516</td>\n",
              "      <td>0.206092</td>\n",
              "      <td>0.612403</td>\n",
              "      <td>0.191011</td>\n",
              "      <td>0.202899</td>\n",
              "      <td>0</td>\n",
              "    </tr>\n",
              "    <tr>\n",
              "      <th>1</th>\n",
              "      <td>0.330579</td>\n",
              "      <td>0.533333</td>\n",
              "      <td>0.000000</td>\n",
              "      <td>0.030675</td>\n",
              "      <td>0.147841</td>\n",
              "      <td>0.083333</td>\n",
              "      <td>0.140553</td>\n",
              "      <td>0.186813</td>\n",
              "      <td>0.372093</td>\n",
              "      <td>0.258427</td>\n",
              "      <td>0.260870</td>\n",
              "      <td>0</td>\n",
              "    </tr>\n",
              "    <tr>\n",
              "      <th>2</th>\n",
              "      <td>0.330579</td>\n",
              "      <td>0.453333</td>\n",
              "      <td>0.024096</td>\n",
              "      <td>0.026074</td>\n",
              "      <td>0.137874</td>\n",
              "      <td>0.048611</td>\n",
              "      <td>0.110599</td>\n",
              "      <td>0.190669</td>\n",
              "      <td>0.418605</td>\n",
              "      <td>0.241573</td>\n",
              "      <td>0.260870</td>\n",
              "      <td>0</td>\n",
              "    </tr>\n",
              "  </tbody>\n",
              "</table>\n",
              "</div>"
            ],
            "text/plain": [
              "   fixed acidity  volatile acidity  citric acid  residual sugar  chlorides  \\\n",
              "0       0.297521          0.413333     0.000000        0.019939   0.111296   \n",
              "1       0.330579          0.533333     0.000000        0.030675   0.147841   \n",
              "2       0.330579          0.453333     0.024096        0.026074   0.137874   \n",
              "\n",
              "   free sulfur dioxide  total sulfur dioxide   density        pH  sulphates  \\\n",
              "0             0.034722              0.064516  0.206092  0.612403   0.191011   \n",
              "1             0.083333              0.140553  0.186813  0.372093   0.258427   \n",
              "2             0.048611              0.110599  0.190669  0.418605   0.241573   \n",
              "\n",
              "    alcohol  quality_new  \n",
              "0  0.202899            0  \n",
              "1  0.260870            0  \n",
              "2  0.260870            0  "
            ]
          },
          "metadata": {},
          "output_type": "display_data"
        },
        {
          "data": {
            "text/html": [
              "<div>\n",
              "<style scoped>\n",
              "    .dataframe tbody tr th:only-of-type {\n",
              "        vertical-align: middle;\n",
              "    }\n",
              "\n",
              "    .dataframe tbody tr th {\n",
              "        vertical-align: top;\n",
              "    }\n",
              "\n",
              "    .dataframe thead th {\n",
              "        text-align: right;\n",
              "    }\n",
              "</style>\n",
              "<table border=\"1\" class=\"dataframe\">\n",
              "  <thead>\n",
              "    <tr style=\"text-align: right;\">\n",
              "      <th></th>\n",
              "      <th>fixed acidity</th>\n",
              "      <th>volatile acidity</th>\n",
              "      <th>citric acid</th>\n",
              "      <th>residual sugar</th>\n",
              "      <th>chlorides</th>\n",
              "      <th>free sulfur dioxide</th>\n",
              "      <th>total sulfur dioxide</th>\n",
              "      <th>density</th>\n",
              "      <th>pH</th>\n",
              "      <th>sulphates</th>\n",
              "      <th>alcohol</th>\n",
              "      <th>quality_new</th>\n",
              "    </tr>\n",
              "  </thead>\n",
              "  <tbody>\n",
              "    <tr>\n",
              "      <th>0</th>\n",
              "      <td>0.297521</td>\n",
              "      <td>0.413333</td>\n",
              "      <td>0.000000</td>\n",
              "      <td>0.019939</td>\n",
              "      <td>0.111296</td>\n",
              "      <td>0.034722</td>\n",
              "      <td>0.064516</td>\n",
              "      <td>0.206092</td>\n",
              "      <td>0.612403</td>\n",
              "      <td>0.191011</td>\n",
              "      <td>0.202899</td>\n",
              "      <td>0</td>\n",
              "    </tr>\n",
              "    <tr>\n",
              "      <th>1</th>\n",
              "      <td>0.330579</td>\n",
              "      <td>0.533333</td>\n",
              "      <td>0.000000</td>\n",
              "      <td>0.030675</td>\n",
              "      <td>0.147841</td>\n",
              "      <td>0.083333</td>\n",
              "      <td>0.140553</td>\n",
              "      <td>0.186813</td>\n",
              "      <td>0.372093</td>\n",
              "      <td>0.258427</td>\n",
              "      <td>0.260870</td>\n",
              "      <td>0</td>\n",
              "    </tr>\n",
              "    <tr>\n",
              "      <th>2</th>\n",
              "      <td>0.330579</td>\n",
              "      <td>0.453333</td>\n",
              "      <td>0.024096</td>\n",
              "      <td>0.026074</td>\n",
              "      <td>0.137874</td>\n",
              "      <td>0.048611</td>\n",
              "      <td>0.110599</td>\n",
              "      <td>0.190669</td>\n",
              "      <td>0.418605</td>\n",
              "      <td>0.241573</td>\n",
              "      <td>0.260870</td>\n",
              "      <td>0</td>\n",
              "    </tr>\n",
              "  </tbody>\n",
              "</table>\n",
              "</div>"
            ],
            "text/plain": [
              "   fixed acidity  volatile acidity  citric acid  residual sugar  chlorides  \\\n",
              "0       0.297521          0.413333     0.000000        0.019939   0.111296   \n",
              "1       0.330579          0.533333     0.000000        0.030675   0.147841   \n",
              "2       0.330579          0.453333     0.024096        0.026074   0.137874   \n",
              "\n",
              "   free sulfur dioxide  total sulfur dioxide   density        pH  sulphates  \\\n",
              "0             0.034722              0.064516  0.206092  0.612403   0.191011   \n",
              "1             0.083333              0.140553  0.186813  0.372093   0.258427   \n",
              "2             0.048611              0.110599  0.190669  0.418605   0.241573   \n",
              "\n",
              "    alcohol  quality_new  \n",
              "0  0.202899            0  \n",
              "1  0.260870            0  \n",
              "2  0.260870            0  "
            ]
          },
          "metadata": {},
          "output_type": "display_data"
        }
      ],
      "source": [
        "temp = wine_data[\"quality_new\"]\n",
        "wine_data_num = wine_data.drop(\"quality_new\", axis = 1)\n",
        "for i in wine_data_num:\n",
        "    wine_data_num[i] = (wine_data_num[i] - wine_data_num[i].min())/(wine_data_num[i].max() - wine_data_num[i].min())\n",
        "wine_data_num.insert(11,\"quality_new\",temp)\n",
        "wine_data_normalized = wine_data_num\n",
        "display(wine_data_normalized.head(3))\n",
        "display(wine_data_normalized.head(3))"
      ]
    },
    {
      "cell_type": "markdown",
      "metadata": {
        "id": "VwbMxG9U2jTP"
      },
      "source": [
        "- ## <font color='blue' size=\"4\">**Read Instructions Below Prior to Proceeding with Next Questions**</font>\n",
        "    * From this Question onwards, we are using the **<u>\"data_wine_normalized\"<u>**. *Optional: you are free to drop any other wine_data you've created along the way only if you want to.*\n",
        "    * <font color='blue'>**Objective<u>**</font> :\n",
        "**Our goal is to build two binary classification models to predict whether wine passes or fails the quality rating level, and evaluate their performance**\n",
        "    \n"
      ]
    },
    {
      "cell_type": "markdown",
      "metadata": {
        "id": "t0MbenQb67k2"
      },
      "source": [
        "### Question 8\n",
        "Divide the dataset to training and test sets. (10 points)"
      ]
    },
    {
      "cell_type": "code",
      "execution_count": 527,
      "metadata": {
        "id": "cAw_HU6s2jTQ"
      },
      "outputs": [],
      "source": [
        "X = wine_data_normalized.iloc[:, :-1]\n",
        "y = wine_data_normalized.iloc[:, -1] \n",
        "X_train, X_test, y_train, y_test = train_test_split(\n",
        "    X, y, test_size=0.2, random_state=0)"
      ]
    },
    {
      "cell_type": "markdown",
      "metadata": {
        "id": "Z0-NvzsYno7l"
      },
      "source": [
        "### Question 9\n",
        "Use the Logistic Regression algorithm to predict the quality of wine (quality_new) using its attributes. (12 points)"
      ]
    },
    {
      "cell_type": "code",
      "execution_count": 528,
      "metadata": {
        "id": "eEq7LxfB2jTQ"
      },
      "outputs": [],
      "source": [
        "LogR = LogisticRegression(random_state = 25)\n",
        "LogR.fit(X_train, y_train)\n",
        "y_pred = LogR.predict(X_test)\n"
      ]
    },
    {
      "cell_type": "markdown",
      "metadata": {
        "id": "UtVW9Wqi67k5"
      },
      "source": [
        "### Question 10\n",
        "Use the KNN algorithm to predict the quality of wine (quality_new) using its attributes. (12 points)"
      ]
    },
    {
      "cell_type": "code",
      "execution_count": 529,
      "metadata": {
        "id": "5TXWITBB2jTR"
      },
      "outputs": [],
      "source": [
        "KNN = KNeighborsClassifier(n_neighbors=16)\n",
        "KNN.fit(X_train, y_train)\n",
        "y_pred2 = KNN.predict(X_test)\n"
      ]
    },
    {
      "cell_type": "markdown",
      "metadata": {
        "id": "5_QQUorI67k8"
      },
      "source": [
        "### Question 11\n",
        "Display two confusion matrices to evaluate the performances of Logistic Regression and KNN. (A simple matrix is enough. No need to plot it.) (12 points)"
      ]
    },
    {
      "cell_type": "code",
      "execution_count": 530,
      "metadata": {
        "id": "KN3e8HDi2jTR"
      },
      "outputs": [
        {
          "name": "stdout",
          "output_type": "stream",
          "text": [
            "Confusion Matrix for Logistic Regression Analysis\n"
          ]
        },
        {
          "data": {
            "text/html": [
              "<div>\n",
              "<style scoped>\n",
              "    .dataframe tbody tr th:only-of-type {\n",
              "        vertical-align: middle;\n",
              "    }\n",
              "\n",
              "    .dataframe tbody tr th {\n",
              "        vertical-align: top;\n",
              "    }\n",
              "\n",
              "    .dataframe thead th {\n",
              "        text-align: right;\n",
              "    }\n",
              "</style>\n",
              "<table border=\"1\" class=\"dataframe\">\n",
              "  <thead>\n",
              "    <tr style=\"text-align: right;\">\n",
              "      <th>col_0</th>\n",
              "      <th>0</th>\n",
              "      <th>1</th>\n",
              "    </tr>\n",
              "    <tr>\n",
              "      <th>quality_new</th>\n",
              "      <th></th>\n",
              "      <th></th>\n",
              "    </tr>\n",
              "  </thead>\n",
              "  <tbody>\n",
              "    <tr>\n",
              "      <th>0</th>\n",
              "      <td>272</td>\n",
              "      <td>190</td>\n",
              "    </tr>\n",
              "    <tr>\n",
              "      <th>1</th>\n",
              "      <td>120</td>\n",
              "      <td>718</td>\n",
              "    </tr>\n",
              "  </tbody>\n",
              "</table>\n",
              "</div>"
            ],
            "text/plain": [
              "col_0          0    1\n",
              "quality_new          \n",
              "0            272  190\n",
              "1            120  718"
            ]
          },
          "metadata": {},
          "output_type": "display_data"
        },
        {
          "name": "stdout",
          "output_type": "stream",
          "text": [
            "Confusion Matrix for KNN Analysis\n"
          ]
        },
        {
          "data": {
            "text/html": [
              "<div>\n",
              "<style scoped>\n",
              "    .dataframe tbody tr th:only-of-type {\n",
              "        vertical-align: middle;\n",
              "    }\n",
              "\n",
              "    .dataframe tbody tr th {\n",
              "        vertical-align: top;\n",
              "    }\n",
              "\n",
              "    .dataframe thead th {\n",
              "        text-align: right;\n",
              "    }\n",
              "</style>\n",
              "<table border=\"1\" class=\"dataframe\">\n",
              "  <thead>\n",
              "    <tr style=\"text-align: right;\">\n",
              "      <th>col_0</th>\n",
              "      <th>0</th>\n",
              "      <th>1</th>\n",
              "    </tr>\n",
              "    <tr>\n",
              "      <th>quality_new</th>\n",
              "      <th></th>\n",
              "      <th></th>\n",
              "    </tr>\n",
              "  </thead>\n",
              "  <tbody>\n",
              "    <tr>\n",
              "      <th>0</th>\n",
              "      <td>300</td>\n",
              "      <td>162</td>\n",
              "    </tr>\n",
              "    <tr>\n",
              "      <th>1</th>\n",
              "      <td>121</td>\n",
              "      <td>717</td>\n",
              "    </tr>\n",
              "  </tbody>\n",
              "</table>\n",
              "</div>"
            ],
            "text/plain": [
              "col_0          0    1\n",
              "quality_new          \n",
              "0            300  162\n",
              "1            121  717"
            ]
          },
          "metadata": {},
          "output_type": "display_data"
        }
      ],
      "source": [
        "Logconfusion = pd.crosstab(y_test, y_pred)\n",
        "print(\"Confusion Matrix for Logistic Regression Analysis\")\n",
        "display(Logconfusion)\n",
        "KNNconfusion = pd.crosstab(y_test, y_pred2)\n",
        "print(\"Confusion Matrix for KNN Analysis\")\n",
        "display(KNNconfusion)"
      ]
    },
    {
      "cell_type": "markdown",
      "metadata": {
        "id": "O0kvru8vIr5y"
      },
      "source": [
        "### Question 12\n",
        "Evaluate the models’ performances by computing Accuracy, Precision, and Recall. <br>\n",
        "For each performance metric write <font color='red'> **only one sentence** </font> to explain what the number means, assuming you are presenting to non-technical audience.(12 points)\n"
      ]
    },
    {
      "cell_type": "code",
      "execution_count": 531,
      "metadata": {
        "id": "xFztU9u4oIDS"
      },
      "outputs": [],
      "source": [
        "from sklearn.metrics import accuracy_score, precision_score, recall_score"
      ]
    },
    {
      "cell_type": "code",
      "execution_count": 532,
      "metadata": {
        "id": "dyhUNhEi2jTS"
      },
      "outputs": [
        {
          "name": "stdout",
          "output_type": "stream",
          "text": [
            "Accuracy measures how often the model correctly estimates the outcome \n",
            "Precision measures how often the model correctly estimates the positive outcome correctly, \n",
            "by taking the number of actual positves divided by the number of positives reported by the model \n",
            "Recall measures how often actual positives were correctly estimated by the model\n",
            "The Accuracy of the Logistic analysis is 76.15384615384615 % \n",
            "The Precision is 79.07488986784142 % \n",
            "The Recall is 85.68019093078759 %\n",
            "The Accuracy of the KNN analysis is 78.23076923076923 % \n",
            "The Precision is 81.56996587030717 % \n",
            "The Recall is 85.56085918854416 %\n"
          ]
        }
      ],
      "source": [
        "print(\"Accuracy measures how often the model correctly estimates the outcome \\nPrecision measures how often the model correctly estimates the positive outcome correctly, \\nby taking the number of actual positves divided by the number of positives reported by the model \\nRecall measures how often actual positives were correctly estimated by the model\")\n",
        "print( \"The Accuracy of the Logistic analysis is\", (accuracy_score(y_test, y_pred) * 100) ,\"% \\nThe Precision is\" , (precision_score(y_test, y_pred) * 100) ,\"% \\nThe Recall is\" , (recall_score(y_test, y_pred) * 100) ,\"%\")\n",
        "print( \"The Accuracy of the KNN analysis is\", (accuracy_score(y_test, y_pred2) * 100) ,\"% \\nThe Precision is\" , (precision_score(y_test, y_pred2) * 100) ,\"% \\nThe Recall is\" , (recall_score(y_test, y_pred2) * 100) ,\"%\")"
      ]
    },
    {
      "cell_type": "markdown",
      "metadata": {
        "id": "iIvLfsi-bz2Z"
      },
      "source": [
        "This is the end of Assignment 2\n",
        "\n",
        "Ceni Babaoglu, PhD"
      ]
    }
  ],
  "metadata": {
    "colab": {
      "provenance": []
    },
    "kernelspec": {
      "display_name": "Python 3 (ipykernel)",
      "language": "python",
      "name": "python3"
    },
    "language_info": {
      "codemirror_mode": {
        "name": "ipython",
        "version": 3
      },
      "file_extension": ".py",
      "mimetype": "text/x-python",
      "name": "python",
      "nbconvert_exporter": "python",
      "pygments_lexer": "ipython3",
      "version": "3.12.4"
    }
  },
  "nbformat": 4,
  "nbformat_minor": 0
}
